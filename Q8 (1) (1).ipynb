{
 "cells": [
  {
   "cell_type": "code",
   "execution_count": null,
   "id": "c1f8b832",
   "metadata": {},
   "outputs": [],
   "source": [
    "a) SELECT Temperature(C) FROM tablename;\n",
    "b) SELECT DISTINCT City FROM tablename;\n",
    "c) SELECT * FROM tablename WHERE Country=\"India\";\n",
    "d) SELECT * FROM tablename WHERE Season=\"Fall\";\n",
    "e) SELECT City,Country,Season FROM tablename WHERE  Rainfall(mm) BETWEEN 200 AND 400;\n",
    "f) SELECT City,Country FROM tablename WHERE Temperature(C) > 20 ORDER BY Temperature(C);\n",
    "g) SELECT SUM(Rainfall(c)) AS Total FROM tablename WHERE City=\"Cairo\" GROUP BY City;\n",
    "h) SELECT SUM(Rainfall(c)) AS Total FROM tablename GROUP BY Season;"
   ]
  }
 ],
 "metadata": {
  "kernelspec": {
   "display_name": "Python 3 (ipykernel)",
   "language": "python",
   "name": "python3"
  },
  "language_info": {
   "codemirror_mode": {
    "name": "ipython",
    "version": 3
   },
   "file_extension": ".py",
   "mimetype": "text/x-python",
   "name": "python",
   "nbconvert_exporter": "python",
   "pygments_lexer": "ipython3",
   "version": "3.9.12"
  }
 },
 "nbformat": 4,
 "nbformat_minor": 5
}
