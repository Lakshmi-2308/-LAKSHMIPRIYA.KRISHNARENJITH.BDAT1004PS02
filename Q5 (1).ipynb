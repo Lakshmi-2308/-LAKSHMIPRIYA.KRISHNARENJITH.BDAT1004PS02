{
 "cells": [
  {
   "cell_type": "code",
   "execution_count": null,
   "id": "43fa47a0",
   "metadata": {},
   "outputs": [],
   "source": [
    "def binary(num):\n",
    "        if num >= 1:\n",
    "            binary(num // 2)\n",
    "        print (num % 2, end = '')"
   ]
  }
 ],
 "metadata": {
  "kernelspec": {
   "display_name": "Python 3 (ipykernel)",
   "language": "python",
   "name": "python3"
  },
  "language_info": {
   "codemirror_mode": {
    "name": "ipython",
    "version": 3
   },
   "file_extension": ".py",
   "mimetype": "text/x-python",
   "name": "python",
   "nbconvert_exporter": "python",
   "pygments_lexer": "ipython3",
   "version": "3.9.12"
  }
 },
 "nbformat": 4,
 "nbformat_minor": 5
}
