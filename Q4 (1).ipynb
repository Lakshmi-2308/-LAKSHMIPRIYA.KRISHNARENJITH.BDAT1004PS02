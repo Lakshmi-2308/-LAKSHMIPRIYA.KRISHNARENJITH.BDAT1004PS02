{
 "cells": [
  {
   "cell_type": "code",
   "execution_count": 1,
   "id": "8796249a",
   "metadata": {},
   "outputs": [],
   "source": [
    "def collatz(number):\n",
    "  lst=[]\n",
    "  lst.append(number)\n",
    "  while(number!=1):\n",
    "      if(number%2==0):\n",
    "          number=number//2\n",
    "          lst.append(number)\n",
    "      else:\n",
    "          number=number*3+1\n",
    "          lst.append(number)\n",
    "  print(lst)"
   ]
  },
  {
   "cell_type": "code",
   "execution_count": null,
   "id": "72bb265a",
   "metadata": {},
   "outputs": [],
   "source": []
  },
  {
   "cell_type": "code",
   "execution_count": null,
   "id": "699b50b3",
   "metadata": {},
   "outputs": [],
   "source": []
  }
 ],
 "metadata": {
  "kernelspec": {
   "display_name": "Python 3 (ipykernel)",
   "language": "python",
   "name": "python3"
  },
  "language_info": {
   "codemirror_mode": {
    "name": "ipython",
    "version": 3
   },
   "file_extension": ".py",
   "mimetype": "text/x-python",
   "name": "python",
   "nbconvert_exporter": "python",
   "pygments_lexer": "ipython3",
   "version": "3.9.12"
  }
 },
 "nbformat": 4,
 "nbformat_minor": 5
}
